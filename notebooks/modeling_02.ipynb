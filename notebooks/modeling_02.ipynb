{
 "cells": [
  {
   "cell_type": "code",
   "execution_count": 16,
   "id": "569b3392-d20a-4ea2-a8d0-516959d7f5dd",
   "metadata": {},
   "outputs": [],
   "source": [
    "import os\n",
    "import torch\n",
    "import torch.nn as nn\n",
    "from torch import optim\n",
    "from torchvision import transforms\n",
    "from torchvision.datasets import ImageFolder\n",
    "from torch.utils.data import DataLoader\n",
    "import PIL\n",
    "import pandas as pd\n",
    "import numpy as np\n",
    "import matplotlib.pyplot as plt\n",
    "import matplotlib.image as mpimg\n",
    "from tqdm import tqdm\n",
    "\n",
    "PIL.ImageFile.LOAD_TRUNCATED_IMAGES = True"
   ]
  },
  {
   "cell_type": "code",
   "execution_count": 17,
   "id": "1d619d4d-4a0c-45aa-ac08-d4f77e797e33",
   "metadata": {},
   "outputs": [],
   "source": [
    "# Define the directories\n",
    "train_dir = '../data/train'\n",
    "valid_dir = '../data/valid'\n",
    "test_dir = '../data/test'"
   ]
  },
  {
   "cell_type": "code",
   "execution_count": 18,
   "id": "0c337d92-91ff-40ae-ac70-d4669146af9d",
   "metadata": {},
   "outputs": [],
   "source": [
    "img_transform = transforms.Compose([\n",
    "    transforms.Resize((64, 64)), # resizes to 256x256\n",
    "    transforms.ToTensor(),   # convert image to a tensor\n",
    "    transforms.Normalize(mean=[0.485, 0.456, 0.406], std=[0.229, 0.224, 0.225])  # normalize\n",
    "])\n",
    "\n",
    "# initializes dataset from training directory\n",
    "train_dataset = ImageFolder(root=train_dir, transform = img_transform)\n",
    "valid_dataset = ImageFolder(root=valid_dir, transform = img_transform)\n",
    "\n",
    "\n",
    "# creates dataloader over dataset\n",
    "train_dataloader = DataLoader(train_dataset, batch_size = 64, shuffle = True)\n",
    "valid_dataloader = DataLoader(valid_dataset, batch_size = 64, shuffle = False)"
   ]
  },
  {
   "cell_type": "markdown",
   "id": "df183c46-629e-4e1e-a5eb-dc929f31d6ec",
   "metadata": {},
   "source": [
    "## Model"
   ]
  },
  {
   "cell_type": "code",
   "execution_count": 19,
   "id": "5312b7f9-f4d1-4148-8801-be9de3e5c83f",
   "metadata": {},
   "outputs": [],
   "source": [
    "class CNN(nn.Module):\n",
    "    def __init__(self):\n",
    "        super(CNN, self).__init__()\n",
    "        \n",
    "        # Define the layers\n",
    "        self.conv1 = nn.Conv2d(3, 16, kernel_size=3, stride=1, padding=1)\n",
    "        self.relu1 = nn.ReLU()\n",
    "        self.pool1 = nn.MaxPool2d(kernel_size=2, stride=2)\n",
    "        \n",
    "        self.conv2 = nn.Conv2d(16, 32, kernel_size=3, stride=1, padding=1)\n",
    "        self.relu2 = nn.ReLU()\n",
    "        self.pool2 = nn.MaxPool2d(kernel_size=2, stride=2)\n",
    "        \n",
    "        self.flatten = nn.Flatten()\n",
    "        self.fc1 = nn.Linear(32*16*16, 1)\n",
    "        self.sigmoid = nn.Sigmoid()\n",
    "\n",
    "    def forward(self, x):\n",
    "        # Define the forward pass using the layers defined in __init__\n",
    "        x = self.pool1(self.relu1(self.conv1(x)))\n",
    "        x = self.pool2(self.relu2(self.conv2(x)))\n",
    "        x = self.flatten(x)\n",
    "        x = self.sigmoid(self.fc1(x))\n",
    "        return x"
   ]
  },
  {
   "cell_type": "code",
   "execution_count": 20,
   "id": "e8d04b3a-47f1-4e92-99de-eec17299fff2",
   "metadata": {},
   "outputs": [
    {
     "name": "stdout",
     "output_type": "stream",
     "text": [
      "cpu\n",
      "CNN(\n",
      "  (conv1): Conv2d(3, 16, kernel_size=(3, 3), stride=(1, 1), padding=(1, 1))\n",
      "  (relu1): ReLU()\n",
      "  (pool1): MaxPool2d(kernel_size=2, stride=2, padding=0, dilation=1, ceil_mode=False)\n",
      "  (conv2): Conv2d(16, 32, kernel_size=(3, 3), stride=(1, 1), padding=(1, 1))\n",
      "  (relu2): ReLU()\n",
      "  (pool2): MaxPool2d(kernel_size=2, stride=2, padding=0, dilation=1, ceil_mode=False)\n",
      "  (flatten): Flatten(start_dim=1, end_dim=-1)\n",
      "  (fc1): Linear(in_features=8192, out_features=1, bias=True)\n",
      "  (sigmoid): Sigmoid()\n",
      ")\n"
     ]
    }
   ],
   "source": [
    "device = torch.device(\"cuda\" if torch.cuda.is_available() else \"cpu\")\n",
    "print(device)\n",
    "\n",
    "model = CNN()\n",
    "\n",
    "# Print the model architecture\n",
    "print(model)\n",
    "\n",
    "optimizer = optim.Adam(model.parameters(), lr = 0.001)\n",
    "criterion = nn.BCELoss()"
   ]
  },
  {
   "cell_type": "code",
   "execution_count": 21,
   "id": "9dd1e939-7d2a-484b-aa46-8c92d4c4b98c",
   "metadata": {},
   "outputs": [],
   "source": [
    "def train_one_epoch(epoch):\n",
    "    model.train()  # Set the model to training mode\n",
    "    running_loss = 0.0\n",
    "    correct = 0\n",
    "    total = 0\n",
    "    \n",
    "    for images, labels in tqdm(train_dataloader, desc=f\"Epoch {epoch}/{num_epochs}\"):\n",
    "        images, labels = images.to(device), labels.to(device).float()\n",
    "\n",
    "        optimizer.zero_grad()  # Zero the gradients\n",
    "        outputs = model(images).squeeze()  # Forward pass\n",
    "        loss = criterion(outputs, labels)  # Compute the loss\n",
    "        loss.backward()  # Backward pass\n",
    "        optimizer.step()  # Update the weights\n",
    "\n",
    "        running_loss += loss.item()\n",
    "\n",
    "        predicted = (outputs > 0.5).float()  # Convert to 0 or 1 based on threshold\n",
    "        correct += (predicted.squeeze() == labels).sum().item()\n",
    "        total += labels.size(0)\n",
    "        \n",
    "    model.eval() # set model to evaluation mode\n",
    "\n",
    "    valid_running_loss = 0.0\n",
    "    valid_correct = 0\n",
    "    valid_total = 0 \n",
    "    \n",
    "    for images, labels in valid_dataloader: # iterate over validation dataset\n",
    "        images, labels = images.to(device), labels.to(device).float()\n",
    "\n",
    "        outputs = model(images).squeeze() # forward pass on validation dataset\n",
    "        loss = criterion(outputs, labels)  # Compute the loss        \n",
    "        valid_running_loss += loss.item()\n",
    "\n",
    "        predicted = (outputs > 0.5).float()  # Convert to 0 or 1 based on threshold\n",
    "        valid_correct += (predicted.squeeze() == labels).sum().item()\n",
    "        valid_total += labels.size(0)\n",
    "        \n",
    "    avg_loss = running_loss / len(train_dataloader)\n",
    "    accuracy = 100 * correct / total\n",
    "\n",
    "    avg_valid_loss = valid_running_loss / len(valid_dataloader)\n",
    "    valid_accuracy = 100 * valid_correct / valid_total\n",
    "    #print(f\"Train Loss: {avg_loss:.4f}\")\n",
    "    print(f\"Train Loss: {avg_loss:.4f}, Train Accuracy: {accuracy:.2f}%\")\n",
    "    print(f\"Valid Loss: {avg_valid_loss:.4f}, Valid Accuracy: {valid_accuracy:.2f}%\")\n",
    "    #torch.save(model.state_dict(), f\"../models/model_01_epoch_{epoch}.pt\") # save model\n",
    "    return [avg_loss, accuracy, avg_valid_loss, valid_accuracy, model.state_dict()]\n"
   ]
  },
  {
   "cell_type": "code",
   "execution_count": 22,
   "id": "ca40e323-d60d-4ee7-a1cb-570e31b6c596",
   "metadata": {},
   "outputs": [
    {
     "name": "stderr",
     "output_type": "stream",
     "text": [
      "Epoch 1/30: 100%|█████████████████████████████| 473/473 [00:50<00:00,  9.37it/s]\n"
     ]
    },
    {
     "name": "stdout",
     "output_type": "stream",
     "text": [
      "Train Loss: 0.2228, Train Accuracy: 91.46%\n",
      "Valid Loss: 0.1823, Valid Accuracy: 92.59%\n"
     ]
    },
    {
     "name": "stderr",
     "output_type": "stream",
     "text": [
      "Epoch 2/30: 100%|█████████████████████████████| 473/473 [00:53<00:00,  8.87it/s]\n"
     ]
    },
    {
     "name": "stdout",
     "output_type": "stream",
     "text": [
      "Train Loss: 0.1754, Train Accuracy: 93.26%\n",
      "Valid Loss: 0.1465, Valid Accuracy: 94.35%\n"
     ]
    },
    {
     "name": "stderr",
     "output_type": "stream",
     "text": [
      "Epoch 3/30: 100%|█████████████████████████████| 473/473 [00:53<00:00,  8.84it/s]\n"
     ]
    },
    {
     "name": "stdout",
     "output_type": "stream",
     "text": [
      "Train Loss: 0.1565, Train Accuracy: 94.15%\n",
      "Valid Loss: 0.1354, Valid Accuracy: 95.32%\n"
     ]
    },
    {
     "name": "stderr",
     "output_type": "stream",
     "text": [
      "Epoch 4/30: 100%|█████████████████████████████| 473/473 [00:53<00:00,  8.89it/s]\n"
     ]
    },
    {
     "name": "stdout",
     "output_type": "stream",
     "text": [
      "Train Loss: 0.1436, Train Accuracy: 94.63%\n",
      "Valid Loss: 0.1293, Valid Accuracy: 95.32%\n"
     ]
    },
    {
     "name": "stderr",
     "output_type": "stream",
     "text": [
      "Epoch 5/30: 100%|█████████████████████████████| 473/473 [00:53<00:00,  8.85it/s]\n"
     ]
    },
    {
     "name": "stdout",
     "output_type": "stream",
     "text": [
      "Train Loss: 0.1301, Train Accuracy: 95.24%\n",
      "Valid Loss: 0.1296, Valid Accuracy: 95.25%\n"
     ]
    },
    {
     "name": "stderr",
     "output_type": "stream",
     "text": [
      "Epoch 6/30: 100%|█████████████████████████████| 473/473 [00:53<00:00,  8.83it/s]\n"
     ]
    },
    {
     "name": "stdout",
     "output_type": "stream",
     "text": [
      "Train Loss: 0.1238, Train Accuracy: 95.36%\n",
      "Valid Loss: 0.1177, Valid Accuracy: 95.63%\n"
     ]
    },
    {
     "name": "stderr",
     "output_type": "stream",
     "text": [
      "Epoch 7/30: 100%|█████████████████████████████| 473/473 [00:54<00:00,  8.71it/s]\n"
     ]
    },
    {
     "name": "stdout",
     "output_type": "stream",
     "text": [
      "Train Loss: 0.1151, Train Accuracy: 95.79%\n",
      "Valid Loss: 0.1173, Valid Accuracy: 95.70%\n"
     ]
    },
    {
     "name": "stderr",
     "output_type": "stream",
     "text": [
      "Epoch 8/30: 100%|█████████████████████████████| 473/473 [00:54<00:00,  8.73it/s]\n"
     ]
    },
    {
     "name": "stdout",
     "output_type": "stream",
     "text": [
      "Train Loss: 0.1077, Train Accuracy: 96.13%\n",
      "Valid Loss: 0.1145, Valid Accuracy: 95.71%\n"
     ]
    },
    {
     "name": "stderr",
     "output_type": "stream",
     "text": [
      "Epoch 9/30: 100%|█████████████████████████████| 473/473 [00:54<00:00,  8.74it/s]\n"
     ]
    },
    {
     "name": "stdout",
     "output_type": "stream",
     "text": [
      "Train Loss: 0.0992, Train Accuracy: 96.33%\n",
      "Valid Loss: 0.1219, Valid Accuracy: 95.41%\n"
     ]
    },
    {
     "name": "stderr",
     "output_type": "stream",
     "text": [
      "Epoch 10/30: 100%|████████████████████████████| 473/473 [00:54<00:00,  8.71it/s]\n"
     ]
    },
    {
     "name": "stdout",
     "output_type": "stream",
     "text": [
      "Train Loss: 0.0940, Train Accuracy: 96.57%\n",
      "Valid Loss: 0.1314, Valid Accuracy: 95.16%\n"
     ]
    },
    {
     "name": "stderr",
     "output_type": "stream",
     "text": [
      "Epoch 11/30: 100%|████████████████████████████| 473/473 [00:54<00:00,  8.67it/s]\n"
     ]
    },
    {
     "name": "stdout",
     "output_type": "stream",
     "text": [
      "Train Loss: 0.0844, Train Accuracy: 97.04%\n",
      "Valid Loss: 0.1250, Valid Accuracy: 95.52%\n"
     ]
    },
    {
     "name": "stderr",
     "output_type": "stream",
     "text": [
      "Epoch 12/30: 100%|████████████████████████████| 473/473 [00:54<00:00,  8.69it/s]\n"
     ]
    },
    {
     "name": "stdout",
     "output_type": "stream",
     "text": [
      "Train Loss: 0.0812, Train Accuracy: 97.02%\n",
      "Valid Loss: 0.1291, Valid Accuracy: 95.59%\n"
     ]
    },
    {
     "name": "stderr",
     "output_type": "stream",
     "text": [
      "Epoch 13/30: 100%|████████████████████████████| 473/473 [00:54<00:00,  8.70it/s]\n"
     ]
    },
    {
     "name": "stdout",
     "output_type": "stream",
     "text": [
      "Train Loss: 0.0715, Train Accuracy: 97.56%\n",
      "Valid Loss: 0.1415, Valid Accuracy: 95.22%\n"
     ]
    },
    {
     "name": "stderr",
     "output_type": "stream",
     "text": [
      "Epoch 14/30: 100%|████████████████████████████| 473/473 [00:54<00:00,  8.67it/s]\n"
     ]
    },
    {
     "name": "stdout",
     "output_type": "stream",
     "text": [
      "Train Loss: 0.0696, Train Accuracy: 97.61%\n",
      "Valid Loss: 0.1400, Valid Accuracy: 95.16%\n"
     ]
    },
    {
     "name": "stderr",
     "output_type": "stream",
     "text": [
      "Epoch 15/30: 100%|████████████████████████████| 473/473 [00:54<00:00,  8.70it/s]\n"
     ]
    },
    {
     "name": "stdout",
     "output_type": "stream",
     "text": [
      "Train Loss: 0.0618, Train Accuracy: 97.82%\n",
      "Valid Loss: 0.1402, Valid Accuracy: 95.10%\n"
     ]
    },
    {
     "name": "stderr",
     "output_type": "stream",
     "text": [
      "Epoch 16/30: 100%|████████████████████████████| 473/473 [00:57<00:00,  8.22it/s]\n"
     ]
    },
    {
     "name": "stdout",
     "output_type": "stream",
     "text": [
      "Train Loss: 0.0556, Train Accuracy: 98.16%\n",
      "Valid Loss: 0.1609, Valid Accuracy: 94.63%\n"
     ]
    },
    {
     "name": "stderr",
     "output_type": "stream",
     "text": [
      "Epoch 17/30: 100%|████████████████████████████| 473/473 [00:56<00:00,  8.38it/s]\n"
     ]
    },
    {
     "name": "stdout",
     "output_type": "stream",
     "text": [
      "Train Loss: 0.0536, Train Accuracy: 98.23%\n",
      "Valid Loss: 0.1599, Valid Accuracy: 94.95%\n"
     ]
    },
    {
     "name": "stderr",
     "output_type": "stream",
     "text": [
      "Epoch 18/30: 100%|████████████████████████████| 473/473 [00:56<00:00,  8.42it/s]\n"
     ]
    },
    {
     "name": "stdout",
     "output_type": "stream",
     "text": [
      "Train Loss: 0.0472, Train Accuracy: 98.44%\n",
      "Valid Loss: 0.1615, Valid Accuracy: 95.24%\n"
     ]
    },
    {
     "name": "stderr",
     "output_type": "stream",
     "text": [
      "Epoch 19/30: 100%|████████████████████████████| 473/473 [00:56<00:00,  8.43it/s]\n"
     ]
    },
    {
     "name": "stdout",
     "output_type": "stream",
     "text": [
      "Train Loss: 0.0447, Train Accuracy: 98.50%\n",
      "Valid Loss: 0.1667, Valid Accuracy: 95.05%\n"
     ]
    },
    {
     "name": "stderr",
     "output_type": "stream",
     "text": [
      "Epoch 20/30: 100%|████████████████████████████| 473/473 [01:03<00:00,  7.50it/s]\n"
     ]
    },
    {
     "name": "stdout",
     "output_type": "stream",
     "text": [
      "Train Loss: 0.0448, Train Accuracy: 98.50%\n",
      "Valid Loss: 0.1819, Valid Accuracy: 94.46%\n"
     ]
    },
    {
     "name": "stderr",
     "output_type": "stream",
     "text": [
      "Epoch 21/30: 100%|████████████████████████████| 473/473 [01:03<00:00,  7.48it/s]\n"
     ]
    },
    {
     "name": "stdout",
     "output_type": "stream",
     "text": [
      "Train Loss: 0.0371, Train Accuracy: 98.85%\n",
      "Valid Loss: 0.1884, Valid Accuracy: 95.05%\n"
     ]
    },
    {
     "name": "stderr",
     "output_type": "stream",
     "text": [
      "Epoch 22/30: 100%|████████████████████████████| 473/473 [01:02<00:00,  7.59it/s]\n"
     ]
    },
    {
     "name": "stdout",
     "output_type": "stream",
     "text": [
      "Train Loss: 0.0385, Train Accuracy: 98.75%\n",
      "Valid Loss: 0.1890, Valid Accuracy: 95.19%\n"
     ]
    },
    {
     "name": "stderr",
     "output_type": "stream",
     "text": [
      "Epoch 23/30: 100%|████████████████████████████| 473/473 [01:03<00:00,  7.44it/s]\n"
     ]
    },
    {
     "name": "stdout",
     "output_type": "stream",
     "text": [
      "Train Loss: 0.0356, Train Accuracy: 98.82%\n",
      "Valid Loss: 0.2288, Valid Accuracy: 94.33%\n"
     ]
    },
    {
     "name": "stderr",
     "output_type": "stream",
     "text": [
      "Epoch 24/30: 100%|████████████████████████████| 473/473 [01:03<00:00,  7.48it/s]\n"
     ]
    },
    {
     "name": "stdout",
     "output_type": "stream",
     "text": [
      "Train Loss: 0.0323, Train Accuracy: 98.97%\n",
      "Valid Loss: 0.2039, Valid Accuracy: 94.81%\n"
     ]
    },
    {
     "name": "stderr",
     "output_type": "stream",
     "text": [
      "Epoch 25/30: 100%|████████████████████████████| 473/473 [01:03<00:00,  7.51it/s]\n"
     ]
    },
    {
     "name": "stdout",
     "output_type": "stream",
     "text": [
      "Train Loss: 0.0283, Train Accuracy: 99.16%\n",
      "Valid Loss: 0.2184, Valid Accuracy: 94.46%\n"
     ]
    },
    {
     "name": "stderr",
     "output_type": "stream",
     "text": [
      "Epoch 26/30: 100%|████████████████████████████| 473/473 [01:02<00:00,  7.59it/s]\n"
     ]
    },
    {
     "name": "stdout",
     "output_type": "stream",
     "text": [
      "Train Loss: 0.0264, Train Accuracy: 99.24%\n",
      "Valid Loss: 0.2325, Valid Accuracy: 94.71%\n"
     ]
    },
    {
     "name": "stderr",
     "output_type": "stream",
     "text": [
      "Epoch 27/30: 100%|████████████████████████████| 473/473 [01:02<00:00,  7.52it/s]\n"
     ]
    },
    {
     "name": "stdout",
     "output_type": "stream",
     "text": [
      "Train Loss: 0.0226, Train Accuracy: 99.31%\n",
      "Valid Loss: 0.2553, Valid Accuracy: 94.90%\n"
     ]
    },
    {
     "name": "stderr",
     "output_type": "stream",
     "text": [
      "Epoch 28/30: 100%|████████████████████████████| 473/473 [01:02<00:00,  7.51it/s]\n"
     ]
    },
    {
     "name": "stdout",
     "output_type": "stream",
     "text": [
      "Train Loss: 0.0213, Train Accuracy: 99.38%\n",
      "Valid Loss: 0.2366, Valid Accuracy: 94.89%\n"
     ]
    },
    {
     "name": "stderr",
     "output_type": "stream",
     "text": [
      "Epoch 29/30: 100%|████████████████████████████| 473/473 [01:03<00:00,  7.47it/s]\n"
     ]
    },
    {
     "name": "stdout",
     "output_type": "stream",
     "text": [
      "Train Loss: 0.0265, Train Accuracy: 99.09%\n",
      "Valid Loss: 0.2567, Valid Accuracy: 94.87%\n"
     ]
    },
    {
     "name": "stderr",
     "output_type": "stream",
     "text": [
      "Epoch 30/30: 100%|████████████████████████████| 473/473 [01:03<00:00,  7.47it/s]\n"
     ]
    },
    {
     "name": "stdout",
     "output_type": "stream",
     "text": [
      "Train Loss: 0.0214, Train Accuracy: 99.33%\n",
      "Valid Loss: 0.2658, Valid Accuracy: 94.70%\n"
     ]
    }
   ],
   "source": [
    "df_loss = pd.DataFrame(columns = ['train_loss', 'train_accuracy', 'valid_loss', 'valid_accuracy', 'state_dict'])\n",
    "\n",
    "num_epochs = 30\n",
    "for epoch in range(1, num_epochs + 1):\n",
    "    df_loss.loc[epoch] = train_one_epoch(epoch)"
   ]
  },
  {
   "cell_type": "code",
   "execution_count": 23,
   "id": "b7721c3f-3ad0-4545-9b16-3d755ab4030b",
   "metadata": {},
   "outputs": [
    {
     "data": {
      "text/html": [
       "<div>\n",
       "<style scoped>\n",
       "    .dataframe tbody tr th:only-of-type {\n",
       "        vertical-align: middle;\n",
       "    }\n",
       "\n",
       "    .dataframe tbody tr th {\n",
       "        vertical-align: top;\n",
       "    }\n",
       "\n",
       "    .dataframe thead th {\n",
       "        text-align: right;\n",
       "    }\n",
       "</style>\n",
       "<table border=\"1\" class=\"dataframe\">\n",
       "  <thead>\n",
       "    <tr style=\"text-align: right;\">\n",
       "      <th></th>\n",
       "      <th>train_loss</th>\n",
       "      <th>train_accuracy</th>\n",
       "      <th>valid_loss</th>\n",
       "      <th>valid_accuracy</th>\n",
       "      <th>state_dict</th>\n",
       "    </tr>\n",
       "  </thead>\n",
       "  <tbody>\n",
       "    <tr>\n",
       "      <th>8</th>\n",
       "      <td>0.107734</td>\n",
       "      <td>96.132231</td>\n",
       "      <td>0.114536</td>\n",
       "      <td>95.714286</td>\n",
       "      <td>{'conv1.weight': [[tensor([[-0.0100,  0.0848, ...</td>\n",
       "    </tr>\n",
       "    <tr>\n",
       "      <th>7</th>\n",
       "      <td>0.115110</td>\n",
       "      <td>95.785124</td>\n",
       "      <td>0.117258</td>\n",
       "      <td>95.698413</td>\n",
       "      <td>{'conv1.weight': [[tensor([[-0.0100,  0.0848, ...</td>\n",
       "    </tr>\n",
       "    <tr>\n",
       "      <th>6</th>\n",
       "      <td>0.123841</td>\n",
       "      <td>95.358678</td>\n",
       "      <td>0.117741</td>\n",
       "      <td>95.634921</td>\n",
       "      <td>{'conv1.weight': [[tensor([[-0.0100,  0.0848, ...</td>\n",
       "    </tr>\n",
       "    <tr>\n",
       "      <th>9</th>\n",
       "      <td>0.099161</td>\n",
       "      <td>96.327273</td>\n",
       "      <td>0.121908</td>\n",
       "      <td>95.412698</td>\n",
       "      <td>{'conv1.weight': [[tensor([[-0.0100,  0.0848, ...</td>\n",
       "    </tr>\n",
       "    <tr>\n",
       "      <th>11</th>\n",
       "      <td>0.084431</td>\n",
       "      <td>97.041322</td>\n",
       "      <td>0.124996</td>\n",
       "      <td>95.523810</td>\n",
       "      <td>{'conv1.weight': [[tensor([[-0.0100,  0.0848, ...</td>\n",
       "    </tr>\n",
       "  </tbody>\n",
       "</table>\n",
       "</div>"
      ],
      "text/plain": [
       "    train_loss  train_accuracy  valid_loss  valid_accuracy  \\\n",
       "8     0.107734       96.132231    0.114536       95.714286   \n",
       "7     0.115110       95.785124    0.117258       95.698413   \n",
       "6     0.123841       95.358678    0.117741       95.634921   \n",
       "9     0.099161       96.327273    0.121908       95.412698   \n",
       "11    0.084431       97.041322    0.124996       95.523810   \n",
       "\n",
       "                                           state_dict  \n",
       "8   {'conv1.weight': [[tensor([[-0.0100,  0.0848, ...  \n",
       "7   {'conv1.weight': [[tensor([[-0.0100,  0.0848, ...  \n",
       "6   {'conv1.weight': [[tensor([[-0.0100,  0.0848, ...  \n",
       "9   {'conv1.weight': [[tensor([[-0.0100,  0.0848, ...  \n",
       "11  {'conv1.weight': [[tensor([[-0.0100,  0.0848, ...  "
      ]
     },
     "execution_count": 23,
     "metadata": {},
     "output_type": "execute_result"
    }
   ],
   "source": [
    "df_loss.sort_values('valid_loss', ascending = True).head(5)"
   ]
  },
  {
   "cell_type": "code",
   "execution_count": 24,
   "id": "2c6a14e0-bad0-43c7-919d-5390ce4c879f",
   "metadata": {},
   "outputs": [
    {
     "data": {
      "image/png": "[encoded data removed]",
      "text/plain": [
       "<Figure size 800x500 with 1 Axes>"
      ]
     },
     "metadata": {},
     "output_type": "display_data"
    }
   ],
   "source": [
    "fig = plt.figure(figsize = (8,5))\n",
    "plt.plot(list(range(1, num_epochs + 1)), df_loss['train_loss'], label = 'Training Loss')\n",
    "plt.plot(list(range(1, num_epochs + 1)), df_loss['valid_loss'], label = 'Validation Loss')\n",
    "plt.xlabel('Epoch')\n",
    "plt.ylabel('Loss')\n",
    "plt.title('Model Loss vs Epoch')\n",
    "plt.legend()\n",
    "plt.show()"
   ]
  },
  {
   "cell_type": "code",
   "execution_count": 25,
   "id": "0ee58c28-56bb-45d8-a55d-e5ad6fb236c0",
   "metadata": {},
   "outputs": [
    {
     "data": {
      "image/png": "[encoded data removed]",
      "text/plain": [
       "<Figure size 800x500 with 1 Axes>"
      ]
     },
     "metadata": {},
     "output_type": "display_data"
    }
   ],
   "source": [
    "fig = plt.figure(figsize = (8,5))\n",
    "plt.plot(list(range(1, num_epochs + 1)), df_loss['train_accuracy'], label = 'Training Accuracy')\n",
    "plt.plot(list(range(1, num_epochs + 1)), df_loss['valid_accuracy'], label = 'Validation Accuracy')\n",
    "plt.xlabel('Epoch')\n",
    "plt.ylabel('Accuracy')\n",
    "plt.title('Model Accuracy vs Epoch')\n",
    "plt.show()"
   ]
  },
  {
   "cell_type": "code",
   "execution_count": 27,
   "id": "54ef32c2-a911-430b-a528-75a0a619de73",
   "metadata": {},
   "outputs": [],
   "source": [
    "model_epoch = 8 # choose model with best validation lost\n",
    "\n",
    "torch.save(df_loss.loc[model_epoch, 'state_dict'], f\"../models/model_02.pt\") # saves model"
   ]
  }
 ],
 "metadata": {
  "kernelspec": {
   "display_name": "Python 3 (ipykernel)",
   "language": "python",
   "name": "python3"
  },
  "language_info": {
   "codemirror_mode": {
    "name": "ipython",
    "version": 3
   },
   "file_extension": ".py",
   "mimetype": "text/x-python",
   "name": "python",
   "nbconvert_exporter": "python",
   "pygments_lexer": "ipython3",
   "version": "3.12.6"
  }
 },
 "nbformat": 4,
 "nbformat_minor": 5
}
