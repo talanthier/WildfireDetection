{
 "cells": [
  {
   "cell_type": "code",
   "execution_count": 5,
   "id": "304ac88a-d74f-446b-8b27-e396572d309a",
   "metadata": {},
   "outputs": [],
   "source": [
    "import os\n",
    "import torch\n",
    "import torch.nn as nn\n",
    "from torch import optim\n",
    "from torchvision import transforms\n",
    "from torchvision.datasets import ImageFolder\n",
    "from torch.utils.data import DataLoader\n",
    "import PIL\n",
    "import pandas as pd\n",
    "import numpy as np\n",
    "import matplotlib.pyplot as plt\n",
    "import matplotlib.image as mpimg\n",
    "from tqdm import tqdm\n",
    "\n",
    "PIL.ImageFile.LOAD_TRUNCATED_IMAGES = True"
   ]
  },
  {
   "cell_type": "code",
   "execution_count": 6,
   "id": "14d0f2de-9f24-4eba-934c-acebff2ba6a2",
   "metadata": {},
   "outputs": [],
   "source": [
    "# Define the directories\n",
    "train_dir = '../data/train'\n",
    "valid_dir = '../data/valid'\n",
    "test_dir = '../data/test'"
   ]
  },
  {
   "cell_type": "code",
   "execution_count": 7,
   "id": "b1e3bd9b-50fe-4f1d-98cb-1103e5016688",
   "metadata": {},
   "outputs": [],
   "source": [
    "img_transform = transforms.Compose([\n",
    "    transforms.Resize((64, 64)), # resizes to 256x256\n",
    "    transforms.ToTensor(),   # convert image to a tensor\n",
    "    transforms.Normalize(mean=[0.485, 0.456, 0.406], std=[0.229, 0.224, 0.225])  # normalize\n",
    "])\n",
    "\n",
    "# initializes dataset from training directory\n",
    "train_dataset = ImageFolder(root=train_dir, transform = img_transform)\n",
    "valid_dataset = ImageFolder(root=valid_dir, transform = img_transform)\n",
    "\n",
    "\n",
    "# creates dataloader over dataset\n",
    "train_dataloader = DataLoader(train_dataset, batch_size = 64, shuffle = True)\n",
    "valid_dataloader = DataLoader(valid_dataset, batch_size = 64, shuffle = False)"
   ]
  },
  {
   "cell_type": "code",
   "execution_count": 8,
   "id": "834ea60e-bf56-4848-819c-2112ac4046b5",
   "metadata": {},
   "outputs": [
    {
     "name": "stdout",
     "output_type": "stream",
     "text": [
      "torch.Size([64, 3, 64, 64]) tensor([1, 1, 1, 0, 0, 1, 1, 1, 0, 1, 1, 0, 0, 1, 1, 0, 1, 1, 1, 0, 1, 0, 0, 0,\n",
      "        0, 1, 1, 0, 0, 0, 1, 0, 0, 1, 0, 1, 0, 0, 0, 0, 1, 0, 0, 0, 0, 0, 0, 1,\n",
      "        1, 1, 1, 1, 0, 1, 0, 1, 1, 0, 0, 0, 1, 0, 0, 0])\n"
     ]
    }
   ],
   "source": [
    "data_iter = iter(train_dataloader)\n",
    "images, labels = next(data_iter)\n",
    "print(images.shape, labels)"
   ]
  },
  {
   "cell_type": "markdown",
   "id": "63abf8f7-01ad-4a3d-8083-d3056a22559e",
   "metadata": {},
   "source": [
    "## Model\n",
    "Similar model to initial model. But using 256x256 image dimensions instead of 64x64. Less information loss."
   ]
  },
  {
   "cell_type": "code",
   "execution_count": 18,
   "id": "2730a233-aa52-4906-8cd3-38af96f82c55",
   "metadata": {},
   "outputs": [],
   "source": [
    "class CNN(nn.Module):\n",
    "    def __init__(self):\n",
    "        super(CNN, self).__init__()\n",
    "        \n",
    "        # Define the layers\n",
    "        self.conv1 = nn.Conv2d(3, 16, kernel_size=5, stride=1, padding=1)\n",
    "        self.relu1 = nn.ReLU()\n",
    "        self.pool1 = nn.MaxPool2d(kernel_size=2, stride=2)\n",
    "        \n",
    "        self.conv2 = nn.Conv2d(16, 32, kernel_size=3, stride=1, padding=1)\n",
    "        self.relu2 = nn.ReLU()\n",
    "        self.pool2 = nn.MaxPool2d(kernel_size=2, stride=2)\n",
    "        \n",
    "        self.flatten = nn.Flatten()\n",
    "        self.fc1 = nn.Linear(32*15*15, 128)\n",
    "        self.relu3 = nn.ReLU()\n",
    "        self.fc2 = nn.Linear(128, 1)\n",
    "        self.sigmoid = nn.Sigmoid()\n",
    "\n",
    "    def forward(self, x):\n",
    "        # Define the forward pass using the layers defined in __init__\n",
    "        x = self.pool1(self.relu1(self.conv1(x)))\n",
    "        x = self.pool2(self.relu2(self.conv2(x)))\n",
    "        x = self.flatten(x)\n",
    "        x = self.relu3(self.fc1(x))\n",
    "        x = self.sigmoid(self.fc2(x))\n",
    "        return x"
   ]
  },
  {
   "cell_type": "code",
   "execution_count": 19,
   "id": "5d054212-62bd-4cc3-886a-0622dceb3214",
   "metadata": {},
   "outputs": [
    {
     "name": "stdout",
     "output_type": "stream",
     "text": [
      "cpu\n",
      "CNN(\n",
      "  (conv1): Conv2d(3, 16, kernel_size=(5, 5), stride=(1, 1), padding=(1, 1))\n",
      "  (relu1): ReLU()\n",
      "  (pool1): MaxPool2d(kernel_size=2, stride=2, padding=0, dilation=1, ceil_mode=False)\n",
      "  (conv2): Conv2d(16, 32, kernel_size=(3, 3), stride=(1, 1), padding=(1, 1))\n",
      "  (relu2): ReLU()\n",
      "  (pool2): MaxPool2d(kernel_size=2, stride=2, padding=0, dilation=1, ceil_mode=False)\n",
      "  (flatten): Flatten(start_dim=1, end_dim=-1)\n",
      "  (fc1): Linear(in_features=7200, out_features=128, bias=True)\n",
      "  (relu3): ReLU()\n",
      "  (fc2): Linear(in_features=128, out_features=1, bias=True)\n",
      "  (sigmoid): Sigmoid()\n",
      ")\n"
     ]
    }
   ],
   "source": [
    "device = torch.device(\"cuda\" if torch.cuda.is_available() else \"cpu\")\n",
    "print(device)\n",
    "\n",
    "model = CNN()\n",
    "\n",
    "# Print the model architecture\n",
    "print(model)\n",
    "\n",
    "optimizer = optim.Adam(model.parameters(), lr = 0.0001)\n",
    "criterion = nn.BCELoss()"
   ]
  },
  {
   "cell_type": "code",
   "execution_count": 20,
   "id": "c5f5b01a-654d-4b1e-a410-5c7c34a9a0d0",
   "metadata": {},
   "outputs": [],
   "source": [
    "def train_one_epoch(epoch):\n",
    "    model.train()  # Set the model to training mode\n",
    "    running_loss = 0.0\n",
    "    correct = 0\n",
    "    total = 0\n",
    "    \n",
    "    for images, labels in tqdm(train_dataloader, desc=f\"Epoch {epoch}/{num_epochs}\"):\n",
    "        images, labels = images.to(device), labels.to(device).float()\n",
    "\n",
    "        optimizer.zero_grad()  # Zero the gradients\n",
    "        outputs = model(images).squeeze()  # Forward pass\n",
    "        loss = criterion(outputs, labels)  # Compute the loss\n",
    "        loss.backward()  # Backward pass\n",
    "        optimizer.step()  # Update the weights\n",
    "\n",
    "        running_loss += loss.item()\n",
    "\n",
    "        predicted = (outputs > 0.5).float()  # Convert to 0 or 1 based on threshold\n",
    "        correct += (predicted.squeeze() == labels).sum().item()\n",
    "        total += labels.size(0)\n",
    "        \n",
    "    model.eval() # set model to evaluation mode\n",
    "\n",
    "    valid_running_loss = 0.0\n",
    "    valid_correct = 0\n",
    "    valid_total = 0 \n",
    "    \n",
    "    for images, labels in valid_dataloader: # iterate over validation dataset\n",
    "        images, labels = images.to(device), labels.to(device).float()\n",
    "\n",
    "        outputs = model(images).squeeze() # forward pass on validation dataset\n",
    "        loss = criterion(outputs, labels)  # Compute the loss        \n",
    "        valid_running_loss += loss.item()\n",
    "\n",
    "        predicted = (outputs > 0.5).float()  # Convert to 0 or 1 based on threshold\n",
    "        valid_correct += (predicted.squeeze() == labels).sum().item()\n",
    "        valid_total += labels.size(0)\n",
    "        \n",
    "    avg_loss = running_loss / len(train_dataloader)\n",
    "    accuracy = 100 * correct / total\n",
    "\n",
    "    avg_valid_loss = valid_running_loss / len(valid_dataloader)\n",
    "    valid_accuracy = 100 * valid_correct / valid_total\n",
    "    #print(f\"Train Loss: {avg_loss:.4f}\")\n",
    "    print(f\"Train Loss: {avg_loss:.4f}, Train Accuracy: {accuracy:.2f}%\")\n",
    "    print(f\"Valid Loss: {avg_valid_loss:.4f}, Valid Accuracy: {valid_accuracy:.2f}%\")\n",
    "    #torch.save(model.state_dict(), f\"../models/model_01_epoch_{epoch}.pt\") # save model\n",
    "    return [avg_loss, accuracy, avg_valid_loss, valid_accuracy, model.state_dict()]\n"
   ]
  },
  {
   "cell_type": "code",
   "execution_count": 21,
   "id": "7da86120-0ff1-4114-9f99-8b3ac2c5af88",
   "metadata": {},
   "outputs": [
    {
     "name": "stderr",
     "output_type": "stream",
     "text": [
      "Epoch 1/20: 100%|█████████████████████████████| 473/473 [01:10<00:00,  6.69it/s]\n"
     ]
    },
    {
     "name": "stdout",
     "output_type": "stream",
     "text": [
      "Train Loss: 0.2518, Train Accuracy: 90.33%\n",
      "Valid Loss: 0.2045, Valid Accuracy: 92.27%\n"
     ]
    },
    {
     "name": "stderr",
     "output_type": "stream",
     "text": [
      "Epoch 2/20: 100%|█████████████████████████████| 473/473 [01:14<00:00,  6.33it/s]\n"
     ]
    },
    {
     "name": "stdout",
     "output_type": "stream",
     "text": [
      "Train Loss: 0.2077, Train Accuracy: 92.10%\n",
      "Valid Loss: 0.1861, Valid Accuracy: 92.95%\n"
     ]
    },
    {
     "name": "stderr",
     "output_type": "stream",
     "text": [
      "Epoch 3/20: 100%|█████████████████████████████| 473/473 [01:14<00:00,  6.32it/s]\n"
     ]
    },
    {
     "name": "stdout",
     "output_type": "stream",
     "text": [
      "Train Loss: 0.1874, Train Accuracy: 92.65%\n",
      "Valid Loss: 0.1746, Valid Accuracy: 93.49%\n"
     ]
    },
    {
     "name": "stderr",
     "output_type": "stream",
     "text": [
      "Epoch 4/20: 100%|█████████████████████████████| 473/473 [01:16<00:00,  6.15it/s]\n"
     ]
    },
    {
     "name": "stdout",
     "output_type": "stream",
     "text": [
      "Train Loss: 0.1701, Train Accuracy: 93.40%\n",
      "Valid Loss: 0.1427, Valid Accuracy: 94.63%\n"
     ]
    },
    {
     "name": "stderr",
     "output_type": "stream",
     "text": [
      "Epoch 5/20: 100%|█████████████████████████████| 473/473 [01:19<00:00,  5.94it/s]\n"
     ]
    },
    {
     "name": "stdout",
     "output_type": "stream",
     "text": [
      "Train Loss: 0.1588, Train Accuracy: 93.95%\n",
      "Valid Loss: 0.1360, Valid Accuracy: 95.02%\n"
     ]
    },
    {
     "name": "stderr",
     "output_type": "stream",
     "text": [
      "Epoch 6/20: 100%|█████████████████████████████| 473/473 [01:20<00:00,  5.88it/s]\n"
     ]
    },
    {
     "name": "stdout",
     "output_type": "stream",
     "text": [
      "Train Loss: 0.1516, Train Accuracy: 94.25%\n",
      "Valid Loss: 0.1381, Valid Accuracy: 95.08%\n"
     ]
    },
    {
     "name": "stderr",
     "output_type": "stream",
     "text": [
      "Epoch 7/20: 100%|█████████████████████████████| 473/473 [01:20<00:00,  5.87it/s]\n"
     ]
    },
    {
     "name": "stdout",
     "output_type": "stream",
     "text": [
      "Train Loss: 0.1458, Train Accuracy: 94.52%\n",
      "Valid Loss: 0.1290, Valid Accuracy: 95.14%\n"
     ]
    },
    {
     "name": "stderr",
     "output_type": "stream",
     "text": [
      "Epoch 8/20: 100%|█████████████████████████████| 473/473 [01:21<00:00,  5.83it/s]\n"
     ]
    },
    {
     "name": "stdout",
     "output_type": "stream",
     "text": [
      "Train Loss: 0.1401, Train Accuracy: 94.79%\n",
      "Valid Loss: 0.1340, Valid Accuracy: 95.00%\n"
     ]
    },
    {
     "name": "stderr",
     "output_type": "stream",
     "text": [
      "Epoch 9/20: 100%|█████████████████████████████| 473/473 [01:22<00:00,  5.76it/s]\n"
     ]
    },
    {
     "name": "stdout",
     "output_type": "stream",
     "text": [
      "Train Loss: 0.1365, Train Accuracy: 94.94%\n",
      "Valid Loss: 0.1533, Valid Accuracy: 94.75%\n"
     ]
    },
    {
     "name": "stderr",
     "output_type": "stream",
     "text": [
      "Epoch 10/20: 100%|████████████████████████████| 473/473 [01:22<00:00,  5.75it/s]\n"
     ]
    },
    {
     "name": "stdout",
     "output_type": "stream",
     "text": [
      "Train Loss: 0.1342, Train Accuracy: 94.88%\n",
      "Valid Loss: 0.1321, Valid Accuracy: 94.71%\n"
     ]
    },
    {
     "name": "stderr",
     "output_type": "stream",
     "text": [
      "Epoch 11/20: 100%|████████████████████████████| 473/473 [01:23<00:00,  5.66it/s]\n"
     ]
    },
    {
     "name": "stdout",
     "output_type": "stream",
     "text": [
      "Train Loss: 0.1300, Train Accuracy: 95.12%\n",
      "Valid Loss: 0.1228, Valid Accuracy: 95.44%\n"
     ]
    },
    {
     "name": "stderr",
     "output_type": "stream",
     "text": [
      "Epoch 12/20: 100%|████████████████████████████| 473/473 [01:23<00:00,  5.69it/s]\n"
     ]
    },
    {
     "name": "stdout",
     "output_type": "stream",
     "text": [
      "Train Loss: 0.1243, Train Accuracy: 95.47%\n",
      "Valid Loss: 0.1210, Valid Accuracy: 95.33%\n"
     ]
    },
    {
     "name": "stderr",
     "output_type": "stream",
     "text": [
      "Epoch 13/20: 100%|████████████████████████████| 473/473 [01:23<00:00,  5.65it/s]\n"
     ]
    },
    {
     "name": "stdout",
     "output_type": "stream",
     "text": [
      "Train Loss: 0.1225, Train Accuracy: 95.31%\n",
      "Valid Loss: 0.1173, Valid Accuracy: 95.62%\n"
     ]
    },
    {
     "name": "stderr",
     "output_type": "stream",
     "text": [
      "Epoch 14/20: 100%|████████████████████████████| 473/473 [01:23<00:00,  5.66it/s]\n"
     ]
    },
    {
     "name": "stdout",
     "output_type": "stream",
     "text": [
      "Train Loss: 0.1170, Train Accuracy: 95.76%\n",
      "Valid Loss: 0.1264, Valid Accuracy: 95.29%\n"
     ]
    },
    {
     "name": "stderr",
     "output_type": "stream",
     "text": [
      "Epoch 15/20: 100%|████████████████████████████| 473/473 [01:23<00:00,  5.66it/s]\n"
     ]
    },
    {
     "name": "stdout",
     "output_type": "stream",
     "text": [
      "Train Loss: 0.1157, Train Accuracy: 95.66%\n",
      "Valid Loss: 0.1148, Valid Accuracy: 95.67%\n"
     ]
    },
    {
     "name": "stderr",
     "output_type": "stream",
     "text": [
      "Epoch 16/20: 100%|████████████████████████████| 473/473 [01:24<00:00,  5.61it/s]\n"
     ]
    },
    {
     "name": "stdout",
     "output_type": "stream",
     "text": [
      "Train Loss: 0.1127, Train Accuracy: 95.91%\n",
      "Valid Loss: 0.1177, Valid Accuracy: 95.68%\n"
     ]
    },
    {
     "name": "stderr",
     "output_type": "stream",
     "text": [
      "Epoch 17/20: 100%|████████████████████████████| 473/473 [01:24<00:00,  5.61it/s]\n"
     ]
    },
    {
     "name": "stdout",
     "output_type": "stream",
     "text": [
      "Train Loss: 0.1100, Train Accuracy: 96.05%\n",
      "Valid Loss: 0.1401, Valid Accuracy: 95.05%\n"
     ]
    },
    {
     "name": "stderr",
     "output_type": "stream",
     "text": [
      "Epoch 18/20: 100%|████████████████████████████| 473/473 [01:24<00:00,  5.61it/s]\n"
     ]
    },
    {
     "name": "stdout",
     "output_type": "stream",
     "text": [
      "Train Loss: 0.1079, Train Accuracy: 96.02%\n",
      "Valid Loss: 0.1195, Valid Accuracy: 95.40%\n"
     ]
    },
    {
     "name": "stderr",
     "output_type": "stream",
     "text": [
      "Epoch 19/20: 100%|████████████████████████████| 473/473 [01:15<00:00,  6.28it/s]\n"
     ]
    },
    {
     "name": "stdout",
     "output_type": "stream",
     "text": [
      "Train Loss: 0.1040, Train Accuracy: 96.12%\n",
      "Valid Loss: 0.1322, Valid Accuracy: 95.11%\n"
     ]
    },
    {
     "name": "stderr",
     "output_type": "stream",
     "text": [
      "Epoch 20/20: 100%|████████████████████████████| 473/473 [01:18<00:00,  5.99it/s]\n"
     ]
    },
    {
     "name": "stdout",
     "output_type": "stream",
     "text": [
      "Train Loss: 0.1025, Train Accuracy: 96.22%\n",
      "Valid Loss: 0.1163, Valid Accuracy: 95.65%\n"
     ]
    }
   ],
   "source": [
    "df_train_loss = pd.DataFrame(columns = ['train_loss', 'train_accuracy', 'valid_loss', 'valid_accuracy', 'state_dict'])\n",
    "\n",
    "num_epochs = 20\n",
    "for epoch in range(1, num_epochs + 1):\n",
    "    df_train_loss.loc[epoch] = train_one_epoch(epoch)"
   ]
  },
  {
   "cell_type": "code",
   "execution_count": 23,
   "id": "96b805a8-ecf8-4542-ac77-606a738c89ac",
   "metadata": {},
   "outputs": [
    {
     "name": "stderr",
     "output_type": "stream",
     "text": [
      "Epoch 21/20: 100%|████████████████████████████| 473/473 [01:13<00:00,  6.41it/s]\n"
     ]
    },
    {
     "name": "stdout",
     "output_type": "stream",
     "text": [
      "Train Loss: 0.0990, Train Accuracy: 96.40%\n",
      "Valid Loss: 0.1360, Valid Accuracy: 95.03%\n"
     ]
    },
    {
     "name": "stderr",
     "output_type": "stream",
     "text": [
      "Epoch 22/20: 100%|████████████████████████████| 473/473 [01:19<00:00,  5.98it/s]\n"
     ]
    },
    {
     "name": "stdout",
     "output_type": "stream",
     "text": [
      "Train Loss: 0.0966, Train Accuracy: 96.51%\n",
      "Valid Loss: 0.1235, Valid Accuracy: 95.51%\n"
     ]
    },
    {
     "name": "stderr",
     "output_type": "stream",
     "text": [
      "Epoch 23/20: 100%|████████████████████████████| 473/473 [01:21<00:00,  5.78it/s]\n"
     ]
    },
    {
     "name": "stdout",
     "output_type": "stream",
     "text": [
      "Train Loss: 0.0942, Train Accuracy: 96.57%\n",
      "Valid Loss: 0.1177, Valid Accuracy: 95.59%\n"
     ]
    },
    {
     "name": "stderr",
     "output_type": "stream",
     "text": [
      "Epoch 24/20: 100%|████████████████████████████| 473/473 [01:21<00:00,  5.82it/s]\n"
     ]
    },
    {
     "name": "stdout",
     "output_type": "stream",
     "text": [
      "Train Loss: 0.0942, Train Accuracy: 96.59%\n",
      "Valid Loss: 0.1167, Valid Accuracy: 95.62%\n"
     ]
    },
    {
     "name": "stderr",
     "output_type": "stream",
     "text": [
      "Epoch 25/20: 100%|████████████████████████████| 473/473 [01:21<00:00,  5.79it/s]\n"
     ]
    },
    {
     "name": "stdout",
     "output_type": "stream",
     "text": [
      "Train Loss: 0.0905, Train Accuracy: 96.80%\n",
      "Valid Loss: 0.1486, Valid Accuracy: 94.68%\n"
     ]
    },
    {
     "name": "stderr",
     "output_type": "stream",
     "text": [
      "Epoch 26/20: 100%|████████████████████████████| 473/473 [01:22<00:00,  5.75it/s]\n"
     ]
    },
    {
     "name": "stdout",
     "output_type": "stream",
     "text": [
      "Train Loss: 0.0866, Train Accuracy: 96.88%\n",
      "Valid Loss: 0.1231, Valid Accuracy: 95.62%\n"
     ]
    },
    {
     "name": "stderr",
     "output_type": "stream",
     "text": [
      "Epoch 27/20: 100%|████████████████████████████| 473/473 [01:22<00:00,  5.73it/s]\n"
     ]
    },
    {
     "name": "stdout",
     "output_type": "stream",
     "text": [
      "Train Loss: 0.0824, Train Accuracy: 97.11%\n",
      "Valid Loss: 0.1241, Valid Accuracy: 95.44%\n"
     ]
    },
    {
     "name": "stderr",
     "output_type": "stream",
     "text": [
      "Epoch 28/20: 100%|████████████████████████████| 473/473 [01:22<00:00,  5.70it/s]\n"
     ]
    },
    {
     "name": "stdout",
     "output_type": "stream",
     "text": [
      "Train Loss: 0.0812, Train Accuracy: 97.19%\n",
      "Valid Loss: 0.1232, Valid Accuracy: 95.48%\n"
     ]
    },
    {
     "name": "stderr",
     "output_type": "stream",
     "text": [
      "Epoch 29/20: 100%|████████████████████████████| 473/473 [01:22<00:00,  5.73it/s]\n"
     ]
    },
    {
     "name": "stdout",
     "output_type": "stream",
     "text": [
      "Train Loss: 0.0795, Train Accuracy: 97.24%\n",
      "Valid Loss: 0.1406, Valid Accuracy: 95.16%\n"
     ]
    },
    {
     "name": "stderr",
     "output_type": "stream",
     "text": [
      "Epoch 30/20: 100%|████████████████████████████| 473/473 [01:24<00:00,  5.62it/s]\n"
     ]
    },
    {
     "name": "stdout",
     "output_type": "stream",
     "text": [
      "Train Loss: 0.0774, Train Accuracy: 97.29%\n",
      "Valid Loss: 0.1480, Valid Accuracy: 94.92%\n"
     ]
    }
   ],
   "source": [
    "for epoch in range(1+20, num_epochs+10 + 1): # train 10 more epochs\n",
    "    df_train_loss.loc[epoch] = train_one_epoch(epoch)"
   ]
  },
  {
   "cell_type": "code",
   "execution_count": 24,
   "id": "01132c08-b5ce-455f-9743-05dce4ef7fba",
   "metadata": {},
   "outputs": [
    {
     "data": {
      "text/html": [
       "<div>\n",
       "<style scoped>\n",
       "    .dataframe tbody tr th:only-of-type {\n",
       "        vertical-align: middle;\n",
       "    }\n",
       "\n",
       "    .dataframe tbody tr th {\n",
       "        vertical-align: top;\n",
       "    }\n",
       "\n",
       "    .dataframe thead th {\n",
       "        text-align: right;\n",
       "    }\n",
       "</style>\n",
       "<table border=\"1\" class=\"dataframe\">\n",
       "  <thead>\n",
       "    <tr style=\"text-align: right;\">\n",
       "      <th></th>\n",
       "      <th>train_loss</th>\n",
       "      <th>train_accuracy</th>\n",
       "      <th>valid_loss</th>\n",
       "      <th>valid_accuracy</th>\n",
       "      <th>state_dict</th>\n",
       "    </tr>\n",
       "  </thead>\n",
       "  <tbody>\n",
       "    <tr>\n",
       "      <th>15</th>\n",
       "      <td>0.115685</td>\n",
       "      <td>95.659504</td>\n",
       "      <td>0.114849</td>\n",
       "      <td>95.666667</td>\n",
       "      <td>{'conv1.weight': [[tensor([[ 0.0675, -0.0303, ...</td>\n",
       "    </tr>\n",
       "    <tr>\n",
       "      <th>20</th>\n",
       "      <td>0.102494</td>\n",
       "      <td>96.218182</td>\n",
       "      <td>0.116265</td>\n",
       "      <td>95.650794</td>\n",
       "      <td>{'conv1.weight': [[tensor([[ 0.0675, -0.0303, ...</td>\n",
       "    </tr>\n",
       "    <tr>\n",
       "      <th>24</th>\n",
       "      <td>0.094188</td>\n",
       "      <td>96.591736</td>\n",
       "      <td>0.116678</td>\n",
       "      <td>95.619048</td>\n",
       "      <td>{'conv1.weight': [[tensor([[ 0.0675, -0.0303, ...</td>\n",
       "    </tr>\n",
       "    <tr>\n",
       "      <th>13</th>\n",
       "      <td>0.122528</td>\n",
       "      <td>95.312397</td>\n",
       "      <td>0.117328</td>\n",
       "      <td>95.619048</td>\n",
       "      <td>{'conv1.weight': [[tensor([[ 0.0675, -0.0303, ...</td>\n",
       "    </tr>\n",
       "    <tr>\n",
       "      <th>16</th>\n",
       "      <td>0.112727</td>\n",
       "      <td>95.914050</td>\n",
       "      <td>0.117675</td>\n",
       "      <td>95.682540</td>\n",
       "      <td>{'conv1.weight': [[tensor([[ 0.0675, -0.0303, ...</td>\n",
       "    </tr>\n",
       "  </tbody>\n",
       "</table>\n",
       "</div>"
      ],
      "text/plain": [
       "    train_loss  train_accuracy  valid_loss  valid_accuracy  \\\n",
       "15    0.115685       95.659504    0.114849       95.666667   \n",
       "20    0.102494       96.218182    0.116265       95.650794   \n",
       "24    0.094188       96.591736    0.116678       95.619048   \n",
       "13    0.122528       95.312397    0.117328       95.619048   \n",
       "16    0.112727       95.914050    0.117675       95.682540   \n",
       "\n",
       "                                           state_dict  \n",
       "15  {'conv1.weight': [[tensor([[ 0.0675, -0.0303, ...  \n",
       "20  {'conv1.weight': [[tensor([[ 0.0675, -0.0303, ...  \n",
       "24  {'conv1.weight': [[tensor([[ 0.0675, -0.0303, ...  \n",
       "13  {'conv1.weight': [[tensor([[ 0.0675, -0.0303, ...  \n",
       "16  {'conv1.weight': [[tensor([[ 0.0675, -0.0303, ...  "
      ]
     },
     "execution_count": 24,
     "metadata": {},
     "output_type": "execute_result"
    }
   ],
   "source": [
    "df_train_loss.sort_values('valid_loss', ascending = True).head(5)"
   ]
  },
  {
   "cell_type": "code",
   "execution_count": 25,
   "id": "c2d77344-b6e1-4cac-9911-cd26cedb65b0",
   "metadata": {},
   "outputs": [
    {
     "data": {
      "image/png": "[encoded data removed]",
      "text/plain": [
       "<Figure size 800x500 with 1 Axes>"
      ]
     },
     "metadata": {},
     "output_type": "display_data"
    }
   ],
   "source": [
    "fig = plt.figure(figsize = (8,5))\n",
    "plt.plot(list(range(1, 31)), df_train_loss['train_loss'], label = 'Training Loss')\n",
    "plt.plot(list(range(1, 31)), df_train_loss['valid_loss'], label = 'Validation Loss')\n",
    "plt.xlabel('Epoch')\n",
    "plt.ylabel('Loss')\n",
    "plt.title('Model Loss vs Epoch')\n",
    "plt.legend()\n",
    "plt.show()"
   ]
  },
  {
   "cell_type": "code",
   "execution_count": 26,
   "id": "aeb69a7f-c31d-4f84-8d41-3f46c4cf7a43",
   "metadata": {},
   "outputs": [
    {
     "data": {
      "image/png": "[encoded data removed]",
      "text/plain": [
       "<Figure size 800x500 with 1 Axes>"
      ]
     },
     "metadata": {},
     "output_type": "display_data"
    }
   ],
   "source": [
    "fig = plt.figure(figsize = (8,5))\n",
    "plt.plot(list(range(1, 31)), df_train_loss['train_accuracy'], label = 'Training Accuracy')\n",
    "plt.plot(list(range(1, 31)), df_train_loss['valid_accuracy'], label = 'Validation Accuracy')\n",
    "plt.xlabel('Epoch')\n",
    "plt.ylabel('Accuracy')\n",
    "plt.title('Model Accuracy vs Epoch')\n",
    "plt.show()"
   ]
  },
  {
   "cell_type": "code",
   "execution_count": 27,
   "id": "50976baf-fe95-4d53-980c-76e83d71e3cb",
   "metadata": {},
   "outputs": [],
   "source": [
    "model_epoch = 15 # choose model with best validation lost\n",
    "\n",
    "torch.save(df_train_loss.loc[model_epoch, 'state_dict'], f\"../models/model_01.pt\") # saves model"
   ]
  },
  {
   "cell_type": "code",
   "execution_count": null,
   "id": "1d4b4f77-d751-419e-9835-59d19725f70f",
   "metadata": {},
   "outputs": [],
   "source": []
  }
 ],
 "metadata": {
  "kernelspec": {
   "display_name": "Python 3 (ipykernel)",
   "language": "python",
   "name": "python3"
  },
  "language_info": {
   "codemirror_mode": {
    "name": "ipython",
    "version": 3
   },
   "file_extension": ".py",
   "mimetype": "text/x-python",
   "name": "python",
   "nbconvert_exporter": "python",
   "pygments_lexer": "ipython3",
   "version": "3.12.6"
  }
 },
 "nbformat": 4,
 "nbformat_minor": 5
}
